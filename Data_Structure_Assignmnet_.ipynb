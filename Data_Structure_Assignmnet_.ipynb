{
  "nbformat": 4,
  "nbformat_minor": 0,
  "metadata": {
    "colab": {
      "provenance": []
    },
    "kernelspec": {
      "name": "python3",
      "display_name": "Python 3"
    },
    "language_info": {
      "name": "python"
    }
  },
  "cells": [
    {
      "cell_type": "markdown",
      "source": [
        "1)   Discuss string slicing and provide examples ?"
      ],
      "metadata": {
        "id": "DnWeR2Xa4hAf"
      }
    },
    {
      "cell_type": "code",
      "execution_count": 5,
      "metadata": {
        "colab": {
          "base_uri": "https://localhost:8080/"
        },
        "id": "6wshTkWe35F6",
        "outputId": "d169c757-4f6c-4f4a-d1a5-9bb9f9e671d2"
      },
      "outputs": [
        {
          "output_type": "stream",
          "name": "stdout",
          "text": [
            "Hello\n"
          ]
        }
      ],
      "source": [
        "#String slicing in Python allows you to extract a part (substring) of a string using a specific syntax.\n",
        "A = \"Hello,Ankit\"\n",
        "#Basic slicing\n",
        "print(A[0:5])\n"
      ]
    },
    {
      "cell_type": "code",
      "source": [
        "#Slicing with step\n",
        "print(A[0:5:2])"
      ],
      "metadata": {
        "colab": {
          "base_uri": "https://localhost:8080/"
        },
        "id": "fxzVbeuw4MFE",
        "outputId": "0149ceb4-2f35-4cb9-9749-187461e303f4"
      },
      "execution_count": 6,
      "outputs": [
        {
          "output_type": "stream",
          "name": "stdout",
          "text": [
            "Hlo\n"
          ]
        }
      ]
    },
    {
      "cell_type": "code",
      "source": [
        "# Slicing with negative index\n",
        "print(A[-5:])"
      ],
      "metadata": {
        "colab": {
          "base_uri": "https://localhost:8080/"
        },
        "id": "DwPLug268mgR",
        "outputId": "09bc5c2a-e5e3-48f5-8b94-19168aecb59e"
      },
      "execution_count": 9,
      "outputs": [
        {
          "output_type": "stream",
          "name": "stdout",
          "text": [
            "Ankit\n"
          ]
        }
      ]
    },
    {
      "cell_type": "markdown",
      "source": [
        "2) Explain the key Features of lists in Python ?"
      ],
      "metadata": {
        "id": "NoaCOWEi89ES"
      }
    },
    {
      "cell_type": "code",
      "source": [
        "##Lists in Python are one of the most versatile data structures, characterized by the following features:\n",
        "\n",
        "#Ordered: The items in a list have a defined order.\n",
        "#Mutable: Lists can be modified after their creation.\n",
        "#Heterogeneous: Lists can contain items of different types (integers, strings, objects, etc.).\n",
        "#Dynamic size: Lists can grow or shrink as needed.\n",
        "#Indexed: Elements in a list can be accessed using their index.\n",
        "\n",
        "\n",
        "my_list =[1,2,3,\"apple\",\"Bananna\",\"orange\"]\n",
        "my_list"
      ],
      "metadata": {
        "colab": {
          "base_uri": "https://localhost:8080/"
        },
        "id": "0R1VExm-80j1",
        "outputId": "2644de35-0138-4604-a44b-eefa5cd5fb1b"
      },
      "execution_count": 10,
      "outputs": [
        {
          "output_type": "execute_result",
          "data": {
            "text/plain": [
              "[1, 2, 3, 'apple', 'Bananna', 'orange']"
            ]
          },
          "metadata": {},
          "execution_count": 10
        }
      ]
    },
    {
      "cell_type": "markdown",
      "source": [
        "3) Describe how to access, modify ,and delete elements in a list with examples?"
      ],
      "metadata": {
        "id": "VpoZQMKl952p"
      }
    },
    {
      "cell_type": "code",
      "source": [
        "#Accessing Elements\n",
        "my_list =[1,2,3,\"apple\",\"Bananna\",\"orange\"]\n",
        "my_list[3]"
      ],
      "metadata": {
        "colab": {
          "base_uri": "https://localhost:8080/",
          "height": 36
        },
        "id": "xtbfHJJ392QN",
        "outputId": "8b890edd-e50f-43c9-9cfa-0a3aae1635a1"
      },
      "execution_count": 11,
      "outputs": [
        {
          "output_type": "execute_result",
          "data": {
            "text/plain": [
              "'apple'"
            ],
            "application/vnd.google.colaboratory.intrinsic+json": {
              "type": "string"
            }
          },
          "metadata": {},
          "execution_count": 11
        }
      ]
    },
    {
      "cell_type": "code",
      "source": [
        "# modify Elements\n",
        "my_list[3] = \"Books\"\n",
        "my_list"
      ],
      "metadata": {
        "colab": {
          "base_uri": "https://localhost:8080/"
        },
        "id": "t1PqOqgu-xxp",
        "outputId": "b24d517f-4f4e-486d-926a-05475d9dc8e5"
      },
      "execution_count": 12,
      "outputs": [
        {
          "output_type": "execute_result",
          "data": {
            "text/plain": [
              "[1, 2, 3, 'Books', 'Bananna', 'orange']"
            ]
          },
          "metadata": {},
          "execution_count": 12
        }
      ]
    },
    {
      "cell_type": "code",
      "source": [
        "# delete Elements\n",
        "del my_list[1]\n",
        "my_list"
      ],
      "metadata": {
        "colab": {
          "base_uri": "https://localhost:8080/"
        },
        "id": "cN4tktmL_BqV",
        "outputId": "fdd44880-a9f7-4d57-cf5a-46aff5ba8dce"
      },
      "execution_count": 14,
      "outputs": [
        {
          "output_type": "execute_result",
          "data": {
            "text/plain": [
              "[1, 'Books', 'Bananna', 'orange']"
            ]
          },
          "metadata": {},
          "execution_count": 14
        }
      ]
    },
    {
      "cell_type": "markdown",
      "source": [
        "4)Compare and contrast tuples and lists with examples ?"
      ],
      "metadata": {
        "id": "EC-93oCJ_vjX"
      }
    },
    {
      "cell_type": "code",
      "source": [
        "\n",
        "#Tuples and lists are both sequences in Python, but they have key differences:\n",
        "\n",
        "#Mutability: Lists are mutable, whereas tuples are immutable.\n",
        "#Syntax: Lists are defined with square brackets [ ], while tuples are defined with parentheses ( ).\n",
        "#Use Cases: Tuples are often used for fixed collections of items, like coordinates, whereas lists are used when the collection needs to change.\n"
      ],
      "metadata": {
        "id": "Pfi-K1J0_pN6"
      },
      "execution_count": 15,
      "outputs": []
    },
    {
      "cell_type": "code",
      "source": [
        "my_list=[1,2,3,]\n",
        "my_list[2] = 60\n",
        "my_list ## This is allowed\n"
      ],
      "metadata": {
        "colab": {
          "base_uri": "https://localhost:8080/"
        },
        "id": "ReiQ-LpqAP_z",
        "outputId": "6fcce364-bb3a-4d51-f5b2-c32c8f41501a"
      },
      "execution_count": 19,
      "outputs": [
        {
          "output_type": "execute_result",
          "data": {
            "text/plain": [
              "[1, 2, 60]"
            ]
          },
          "metadata": {},
          "execution_count": 19
        }
      ]
    },
    {
      "cell_type": "code",
      "source": [
        "my_tuple = (1,2,3)\n",
        "my_tuple[2]=4 #this would raise an error 'tuple' object does not support item assignment"
      ],
      "metadata": {
        "colab": {
          "base_uri": "https://localhost:8080/",
          "height": 166
        },
        "id": "EPPz4ZUxAmaV",
        "outputId": "9a51d670-9624-4570-d346-42bd90989b46"
      },
      "execution_count": 21,
      "outputs": [
        {
          "output_type": "error",
          "ename": "TypeError",
          "evalue": "'tuple' object does not support item assignment",
          "traceback": [
            "\u001b[0;31m---------------------------------------------------------------------------\u001b[0m",
            "\u001b[0;31mTypeError\u001b[0m                                 Traceback (most recent call last)",
            "\u001b[0;32m<ipython-input-21-2ff02f9d80ee>\u001b[0m in \u001b[0;36m<cell line: 2>\u001b[0;34m()\u001b[0m\n\u001b[1;32m      1\u001b[0m \u001b[0mmy_tuple\u001b[0m \u001b[0;34m=\u001b[0m \u001b[0;34m(\u001b[0m\u001b[0;36m1\u001b[0m\u001b[0;34m,\u001b[0m\u001b[0;36m2\u001b[0m\u001b[0;34m,\u001b[0m\u001b[0;36m3\u001b[0m\u001b[0;34m)\u001b[0m\u001b[0;34m\u001b[0m\u001b[0;34m\u001b[0m\u001b[0m\n\u001b[0;32m----> 2\u001b[0;31m \u001b[0mmy_tuple\u001b[0m\u001b[0;34m[\u001b[0m\u001b[0;36m2\u001b[0m\u001b[0;34m]\u001b[0m\u001b[0;34m=\u001b[0m\u001b[0;36m4\u001b[0m\u001b[0;34m\u001b[0m\u001b[0;34m\u001b[0m\u001b[0m\n\u001b[0m",
            "\u001b[0;31mTypeError\u001b[0m: 'tuple' object does not support item assignment"
          ]
        }
      ]
    },
    {
      "cell_type": "markdown",
      "source": [
        "5)Describe the key Features of sets and provide examples of there use ?"
      ],
      "metadata": {
        "id": "JNJhDSfkBRSM"
      }
    },
    {
      "cell_type": "code",
      "source": [
        "#sets are unorderd and unique collection of elements\n",
        "#does't allow duplicate elements\n",
        "#unorderd\n",
        "#indexing will not work"
      ],
      "metadata": {
        "id": "nxLSBBfQA_i0"
      },
      "execution_count": 22,
      "outputs": []
    },
    {
      "cell_type": "code",
      "source": [
        "a = {1,2,2,3,3,\"ankit\",\"ankit\",\"govind\",\"govind\"}\n",
        "a ##duplicate values are removed"
      ],
      "metadata": {
        "colab": {
          "base_uri": "https://localhost:8080/"
        },
        "id": "NyaaLDXoB_uO",
        "outputId": "74def85c-bb1a-40c8-9d37-5a116297eab9"
      },
      "execution_count": 23,
      "outputs": [
        {
          "output_type": "execute_result",
          "data": {
            "text/plain": [
              "{1, 2, 3, 'ankit', 'govind'}"
            ]
          },
          "metadata": {},
          "execution_count": 23
        }
      ]
    },
    {
      "cell_type": "code",
      "source": [
        "#Adding the elements\n",
        "a.add(10)\n",
        "a"
      ],
      "metadata": {
        "colab": {
          "base_uri": "https://localhost:8080/"
        },
        "id": "XooBsq0CCXGJ",
        "outputId": "a6b44133-4bc6-457d-ee1c-6fe80e8c3580"
      },
      "execution_count": 24,
      "outputs": [
        {
          "output_type": "execute_result",
          "data": {
            "text/plain": [
              "{1, 10, 2, 3, 'ankit', 'govind'}"
            ]
          },
          "metadata": {},
          "execution_count": 24
        }
      ]
    },
    {
      "cell_type": "code",
      "source": [
        "#Removing the elements\n",
        "a.remove(10)\n",
        "a"
      ],
      "metadata": {
        "colab": {
          "base_uri": "https://localhost:8080/"
        },
        "id": "QXVJxq0rCw3v",
        "outputId": "ca81ae72-e84a-4c88-c017-435b1ec84f58"
      },
      "execution_count": 25,
      "outputs": [
        {
          "output_type": "execute_result",
          "data": {
            "text/plain": [
              "{1, 2, 3, 'ankit', 'govind'}"
            ]
          },
          "metadata": {},
          "execution_count": 25
        }
      ]
    },
    {
      "cell_type": "code",
      "source": [
        "# use case\n",
        "a = {1,2,2,3,3,\"ankit\",\"ankit\",\"govind\",\"govind\"}\n",
        "b = {1,2,2,4,9,\"govind\",\"vijay\",\"govind\",\"govind\"}\n",
        "a|b"
      ],
      "metadata": {
        "colab": {
          "base_uri": "https://localhost:8080/"
        },
        "id": "ZxkSS-htC6kf",
        "outputId": "620c31c4-6725-4694-b529-43ddc863ea54"
      },
      "execution_count": 26,
      "outputs": [
        {
          "output_type": "execute_result",
          "data": {
            "text/plain": [
              "{1, 2, 3, 4, 9, 'ankit', 'govind', 'vijay'}"
            ]
          },
          "metadata": {},
          "execution_count": 26
        }
      ]
    },
    {
      "cell_type": "markdown",
      "source": [
        "6) Discuss the use cases of tuples and sets in Python programming ?"
      ],
      "metadata": {
        "id": "FJehixFUDgRc"
      }
    },
    {
      "cell_type": "code",
      "source": [
        "#Tuples: Use tuples when you need an immutable collection of items. Common use cases include:\n",
        "\n",
        "#Storing a collection of related data, such as coordinates (x, y, z).\n",
        "#Using as keys in dictionaries where immutability is required.\n",
        "#Sets: Use sets when you need a collection of unique items, particularly for:\n",
        "\n",
        "#Removing duplicates from a list.\n",
        "#Performing mathematical set operations like union, intersection, and difference.\n"
      ],
      "metadata": {
        "id": "sJ_krckoDUbW"
      },
      "execution_count": 27,
      "outputs": []
    },
    {
      "cell_type": "code",
      "source": [
        "#coordinates\n",
        "my_tuples =(10,20,30)\n",
        "my_tuples"
      ],
      "metadata": {
        "colab": {
          "base_uri": "https://localhost:8080/"
        },
        "id": "5eS5Q_dJEMRn",
        "outputId": "28ee7794-532b-4761-d88c-9bfc04a49546"
      },
      "execution_count": 28,
      "outputs": [
        {
          "output_type": "execute_result",
          "data": {
            "text/plain": [
              "(10, 20, 30)"
            ]
          },
          "metadata": {},
          "execution_count": 28
        }
      ]
    },
    {
      "cell_type": "code",
      "source": [
        "max(my_tuples)"
      ],
      "metadata": {
        "colab": {
          "base_uri": "https://localhost:8080/"
        },
        "id": "y9NvGRoMFEEQ",
        "outputId": "a3dc8247-6f3d-4e42-dd70-fcd4b8ccef16"
      },
      "execution_count": 29,
      "outputs": [
        {
          "output_type": "execute_result",
          "data": {
            "text/plain": [
              "30"
            ]
          },
          "metadata": {},
          "execution_count": 29
        }
      ]
    },
    {
      "cell_type": "code",
      "source": [
        "# use case fir the set\n",
        "# use case\n",
        "a = {1,2,2,3,3,\"ankit\",\"ankit\",\"govind\",\"govind\"}\n",
        "b = {1,2,2,4,9,\"govind\",\"vijay\",\"govind\",\"govind\"}\n",
        "a|b # Removed the duplicate Values"
      ],
      "metadata": {
        "colab": {
          "base_uri": "https://localhost:8080/"
        },
        "id": "NVGOuviAFMu7",
        "outputId": "b2542633-acda-4273-801c-13f024ba00b5"
      },
      "execution_count": 30,
      "outputs": [
        {
          "output_type": "execute_result",
          "data": {
            "text/plain": [
              "{1, 2, 3, 4, 9, 'ankit', 'govind', 'vijay'}"
            ]
          },
          "metadata": {},
          "execution_count": 30
        }
      ]
    },
    {
      "cell_type": "markdown",
      "source": [
        "7) Describe how to add, modify ,and delete items in a dictionary with examples ?"
      ],
      "metadata": {
        "id": "_o4K1aQeFbqs"
      }
    },
    {
      "cell_type": "code",
      "source": [
        "#Adding Items\n",
        "my_dict = {'a': 1, 'b': 2}\n",
        "my_dict['c'] = 3\n",
        "my_dict"
      ],
      "metadata": {
        "colab": {
          "base_uri": "https://localhost:8080/"
        },
        "id": "MGLWJFmjFU16",
        "outputId": "2e705bfc-9a6f-4576-ca40-7f1d47326a6e"
      },
      "execution_count": 31,
      "outputs": [
        {
          "output_type": "execute_result",
          "data": {
            "text/plain": [
              "{'a': 1, 'b': 2, 'c': 3}"
            ]
          },
          "metadata": {},
          "execution_count": 31
        }
      ]
    },
    {
      "cell_type": "code",
      "source": [
        "#modify Items\n",
        "my_dict['c'] =40\n",
        "my_dict"
      ],
      "metadata": {
        "colab": {
          "base_uri": "https://localhost:8080/"
        },
        "id": "7wtZT4V7Gamy",
        "outputId": "1010edd4-c8df-487f-fa28-e633b2cb898e"
      },
      "execution_count": 37,
      "outputs": [
        {
          "output_type": "execute_result",
          "data": {
            "text/plain": [
              "{'a': 1, 'b': 2, 'c': 40}"
            ]
          },
          "metadata": {},
          "execution_count": 37
        }
      ]
    },
    {
      "cell_type": "code",
      "source": [
        "#Delete Items\n",
        "del my_dict['c']\n",
        "my_dict"
      ],
      "metadata": {
        "colab": {
          "base_uri": "https://localhost:8080/"
        },
        "id": "kex-fo3OGpWu",
        "outputId": "dd55c0b1-3973-455c-cae8-8a940407d87a"
      },
      "execution_count": 38,
      "outputs": [
        {
          "output_type": "execute_result",
          "data": {
            "text/plain": [
              "{'a': 1, 'b': 2}"
            ]
          },
          "metadata": {},
          "execution_count": 38
        }
      ]
    },
    {
      "cell_type": "markdown",
      "source": [
        "8)Discuss the importance of dictionary keys being immutable and provide examples?"
      ],
      "metadata": {
        "id": "bjq5AL3nHNhc"
      }
    },
    {
      "cell_type": "code",
      "source": [
        "#In Python, dictionary keys must be immutable because they are used to calculate the hash value, which allows for fast lookups. If the keys were mutable, their hash value could change, leading to incorrect data retrieval."
      ],
      "metadata": {
        "id": "xBlv-FL2G7iZ"
      },
      "execution_count": 39,
      "outputs": []
    },
    {
      "cell_type": "code",
      "source": [
        "# Immutable key example (allowed)\n",
        "my_dict = {(1, 2)}\n",
        "\n",
        "# Mutable key example (not allowed)\n",
        "# my_dict = {[1, 2]: \"List as a key\"}  # Raises TypeError: unhashable type: 'list'"
      ],
      "metadata": {
        "id": "HlbkbupOHonU"
      },
      "execution_count": 41,
      "outputs": []
    },
    {
      "cell_type": "code",
      "source": [],
      "metadata": {
        "id": "q8f4KGe6IEWy"
      },
      "execution_count": null,
      "outputs": []
    }
  ]
}